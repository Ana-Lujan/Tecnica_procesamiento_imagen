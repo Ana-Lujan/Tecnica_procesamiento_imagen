{
 "cells": [
  {
   "cell_type": "markdown",
   "id": "cell-0",
   "metadata": {
    "id": "cell-0"
   },
   "source": [
    "# TRABAJO PRÁCTICO INTEGRADOR N°1\n",
    "\n",
    "## Sistema de Análisis de Documentos Digitalizados\n",
    "\n",
    "---\n",
    "\n",
    "**Información del Estudiante:**\n",
    "- **Nombre y Apellido:** [COMPLETAR]\n",
    "- **Fecha de Entrega:** 24 de Septiembre de 2025\n",
    "- **Materia:** Procesamiento de Imágenes - IFTS24\n",
    "\n",
    "---\n",
    "\n",
    "### Objetivo\n",
    "\n",
    "Desarrollar un sistema básico de análisis automático de documentos digitalizados que integre las técnicas de procesamiento de imágenes estudiadas en el curso.\n",
    "\n",
    "### Estructura del Trabajo\n",
    "\n",
    "| Parte | Descripción | Peso |\n",
    "|-------|-------------|------|\n",
    "| **1** | Fundamentos Teóricos | 20% |\n",
    "| **2** | Setup del Entorno | 15% |\n",
    "| **3** | Análisis de Imágenes | 35% |\n",
    "| **4** | Preprocessing Básico | 30% |\n",
    "\n",
    "**Dataset requerido:** 3 imágenes de documentos con diferentes características (buena calidad, rotada, con problemas de iluminación)\n",
    "\n",
    "---"
   ]
  },
  {
   "cell_type": "markdown",
   "id": "cell-1",
   "metadata": {
    "id": "cell-1"
   },
   "source": [
    "# PARTE 1: Fundamentos Teóricos\n",
    "\n",
    "## ¿Por qué Cuadernos Interactivos para IA y Ciencias de Datos?\n",
    "\n",
    "### Diferencias Metodológicas Fundamentales\n",
    "\n",
    "El trabajo en inteligencia artificial y ciencias de datos requiere un enfoque metodológico diferente al desarrollo de software tradicional. Mientras que la programación tradicional sigue un flujo lineal y predecible, el trabajo con datos es inherentemente iterativo y exploratorio.\n",
    "\n",
    "**Programación Tradicional:**\n",
    "```\n",
    "Requisitos → Diseño → Implementación → Testing → Producto\n",
    "```\n",
    "\n",
    "**Investigación en IA/Datos:**\n",
    "```\n",
    "Hipótesis ⟷ Experimento ⟷ Análisis ⟷ Refinamiento ⟷ Nueva Hipótesis\n",
    "```\n",
    "\n",
    "### Ventajas de los Cuadernos Interactivos\n",
    "\n",
    "1. **Narrativa Científica:** Permiten documentar el proceso de pensamiento, no solo el resultado final\n",
    "2. **Iteración Rápida:** Ejecutar y modificar secciones específicas sin reejecutar todo el programa\n",
    "3. **Visualización Inmediata:** Ver resultados inmediatamente después de cada paso\n",
    "4. **Comunicación Efectiva:** Stakeholders no técnicos pueden seguir el proceso y entender decisiones\n",
    "5. **Reproducibilidad:** Otros investigadores pueden replicar exactamente los experimentos\n",
    "\n",
    "### Casos de Uso en la Industria\n",
    "\n",
    "- **Google Research:** Publica papers con cuadernos que permiten reproducir experimentos\n",
    "- **Netflix:** Usa cuadernos para análisis de datos de usuarios y recomendaciones\n",
    "- **Uber:** Análisis de patrones de viajes y optimización de rutas\n",
    "- **Kaggle:** Plataforma completa basada en cuadernos para competencias de machine learning\n",
    "\n",
    "### Cuándo Usar Cada Herramienta\n",
    "\n",
    "**Usar Cuadernos para:**\n",
    "- Análisis exploratorio de datos\n",
    "- Experimentación y prototipado\n",
    "- Comunicación de resultados\n",
    "- Educación y documentación\n",
    "\n",
    "**Usar Scripts para:**\n",
    "- Sistemas en producción\n",
    "- Automatización de tareas repetitivas\n",
    "- APIs y servicios web\n",
    "- Pipelines de datos automatizados\n",
    "\n",
    "En este trabajo práctico, usaremos cuadernos porque estamos en la fase de investigación y experimentación, donde necesitamos entender los datos, probar diferentes enfoques y documentar nuestros hallazgos.\n",
    "\n",
    "---"
   ]
  },
  {
   "cell_type": "markdown",
   "id": "cell-2",
   "metadata": {
    "id": "cell-2"
   },
   "source": [
    "# PARTE 2: Setup del Entorno\n",
    "\n",
    "En esta sección vas a configurar tu entorno de trabajo de manera profesional. Un setup bien hecho te ahorra tiempo y errores durante todo el proyecto.\n",
    "\n",
    "**Material de consulta:** `Utilidades_y_Plantillas.ipynb`\n",
    "\n",
    "## 2.1 Importaciones Básicas\n",
    "\n",
    "Importá las librerías necesarias para procesamiento de imágenes y visualización:"
   ]
  },
  {
   "cell_type": "code",
   "execution_count": null,
   "id": "cell-3",
   "metadata": {
    "id": "cell-3"
   },
   "outputs": [
    {
     "ename": "",
     "evalue": "",
     "output_type": "error",
     "traceback": [
      "\u001b[1;31mRunning cells with 'Python 3.9.6' requires the ipykernel package.\n",
      "\u001b[1;31mInstall 'ipykernel' into the Python environment. \n",
      "\u001b[1;31mCommand: '/Users/analujan/Desktop/Tecnica_Procesamiento_Imagen/.venv/bin/python -m pip install ipykernel -U --user --force-reinstall'"
     ]
    }
   ],
   "source": [
    "import numpy as np          # Para operaciones numéricas y manejo de matrices\n",
    "import matplotlib.pyplot as plt  # Para mostrar imágenes y gráficos\n",
    "import cv2                  # OpenCV: procesamiento avanzado de imágenes\n",
    "\n",
    "\n",
    "# Estas librerías te permiten cargar, mostrar, analizar y modificar imágenes digitales."
   ]
  },
  {
   "cell_type": "code",
   "execution_count": null,
   "id": "7f763bdb",
   "metadata": {},
   "outputs": [],
   "source": []
  },
  {
   "cell_type": "markdown",
   "id": "cell-4",
   "metadata": {
    "id": "cell-4"
   },
   "source": [
    "## 2.2 Funciones Utilitarias\n",
    "\n",
    "Implementá una función básica para cargar y mostrar información de imágenes:"
   ]
  },
  {
   "cell_type": "code",
   "execution_count": null,
   "id": "cell-5",
   "metadata": {
    "id": "cell-5"
   },
   "outputs": [
    {
     "ename": "",
     "evalue": "",
     "output_type": "error",
     "traceback": [
      "\u001b[1;31mRunning cells with 'Python 3.9.6' requires the ipykernel package.\n",
      "\u001b[1;31mInstall 'ipykernel' into the Python environment. \n",
      "\u001b[1;31mCommand: '/Users/analujan/Desktop/Tecnica_Procesamiento_Imagen/.venv/bin/python -m pip install ipykernel -U --user --force-reinstall'"
     ]
    }
   ],
   "source": [
    "def cargar_imagen(ruta):\n",
    "    \"\"\"\n",
    "    Carga una imagen y la convierte a RGB.\n",
    "    Devuelve None si hay error.\n",
    "    \"\"\"\n",
    "    # Tu código aquí\n",
    "\n",
    "\n",
    "def mostrar_info_imagen(imagen, titulo=\"Imagen\"):\n",
    "    \"\"\"\n",
    "    Muestra información básica de la imagen: dimensiones, tipo, rango de valores.\n",
    "    \"\"\"\n",
    "    # Tu código aquí\n"
   ]
  },
  {
   "cell_type": "markdown",
   "id": "cell-6",
   "metadata": {
    "id": "cell-6"
   },
   "source": [
    "## 2.3 Verificación del Setup\n",
    "\n",
    "Probá que todo funciona creando una imagen sintética simple:"
   ]
  },
  {
   "cell_type": "code",
   "execution_count": null,
   "id": "cell-7",
   "metadata": {
    "id": "cell-7"
   },
   "outputs": [],
   "source": [
    "# Creá una imagen sintética simple (ej: gradiente o patrón)\n",
    "# Probá tus funciones con esta imagen\n"
   ]
  },
  {
   "cell_type": "markdown",
   "id": "cell-8",
   "metadata": {
    "id": "cell-8"
   },
   "source": [
    "---\n",
    "\n",
    "# PARTE 3: Análisis de Tu Dataset\n",
    "\n",
    "Ahora vas a trabajar con tu dataset de 3 documentos. Esta parte es clave para entender qué problemas tenés que resolver.\n",
    "\n",
    "**Preparación del Dataset:**\n",
    "- Creá una carpeta llamada `dataset/` en la misma ubicación que este notebook\n",
    "- Incluí exactamente 3 imágenes de documentos:\n",
    "  1. Una de buena calidad (bien iluminada, recta)\n",
    "  2. Una rotada o inclinada\n",
    "  3. Una con problemas (oscura, borrosa, o con sombras)\n",
    "\n",
    "## 3.1 Carga de las Imágenes\n",
    "\n",
    "**Material de consulta:** `002/TEO/LeerImagenColor.ipynb`"
   ]
  },
  {
   "cell_type": "code",
   "execution_count": null,
   "id": "cell-9",
   "metadata": {
    "id": "cell-9"
   },
   "outputs": [],
   "source": [
    "# Define las rutas a tus 3 imágenes\n",
    "rutas_imagenes = [\n",
    "    \"dataset/imagen1.jpg\",  # Buena calidad\n",
    "    \"dataset/imagen2.jpg\",  # Rotada\n",
    "    \"dataset/imagen3.jpg\"   # Con problemas\n",
    "]\n",
    "\n",
    "# Carga las 3 imágenes usando tu función\n",
    "imagenes = []\n",
    "nombres = [\"Buena Calidad\", \"Rotada\", \"Con Problemas\"]\n",
    "\n",
    "# Tu código aquí\n"
   ]
  },
  {
   "cell_type": "markdown",
   "id": "cell-10",
   "metadata": {
    "id": "cell-10"
   },
   "source": [
    "## 3.2 Inspección Visual y Análisis\n",
    "\n",
    "**Material de consulta:** `002/Fundamentos_Imagen_Digital.ipynb`"
   ]
  },
  {
   "cell_type": "code",
   "execution_count": null,
   "id": "cell-11",
   "metadata": {
    "id": "cell-11"
   },
   "outputs": [],
   "source": [
    "# Mostra las 3 imágenes lado a lado con sus nombres\n",
    "# Usa subplots de matplotlib\n",
    "\n",
    "# Tu código aquí\n"
   ]
  },
  {
   "cell_type": "code",
   "execution_count": null,
   "id": "cell-12",
   "metadata": {
    "id": "cell-12"
   },
   "outputs": [],
   "source": [
    "# Para cada imagen, mostrá información básica y un histograma\n",
    "# Esto te ayuda a entender los problemas de cada una\n",
    "\n",
    "# Tu código aquí\n"
   ]
  },
  {
   "cell_type": "markdown",
   "id": "cell-13",
   "metadata": {
    "id": "cell-13"
   },
   "source": [
    "## 3.3 Identificación de Problemas\n",
    "\n",
    "Basándote en tu inspección visual, identificá los problemas principales de cada imagen:"
   ]
  },
  {
   "cell_type": "markdown",
   "id": "cell-14",
   "metadata": {
    "id": "cell-14"
   },
   "source": [
    "**Imagen 1 (Buena Calidad):**\n",
    "- Problemas identificados: [COMPLETAR]\n",
    "- Preprocessing necesario: [COMPLETAR]\n",
    "\n",
    "**Imagen 2 (Rotada):**\n",
    "- Problemas identificados: [COMPLETAR]\n",
    "- Preprocessing necesario: [COMPLETAR]\n",
    "\n",
    "**Imagen 3 (Con Problemas):**\n",
    "- Problemas identificados: [COMPLETAR]\n",
    "- Preprocessing necesario: [COMPLETAR]"
   ]
  },
  {
   "cell_type": "markdown",
   "id": "cell-15",
   "metadata": {
    "id": "cell-15"
   },
   "source": [
    "---\n",
    "\n",
    "# PARTE 4: Preprocessing Básico\n",
    "\n",
    "Ahora vas a aplicar técnicas de preprocessing para mejorar cada imagen. Trabajá con una imagen por vez.\n",
    "\n",
    "## 4.1 Segmentación Básica\n",
    "\n",
    "Separar el documento del fondo es el primer paso crítico.\n",
    "\n",
    "**Material de consulta:** `Segmentacion.ipynb` (especialmente las funciones de umbralización)"
   ]
  },
  {
   "cell_type": "code",
   "execution_count": null,
   "id": "cell-16",
   "metadata": {
    "id": "cell-16"
   },
   "outputs": [],
   "source": [
    "# Elegí UNA de tus imágenes para trabajar primero\n",
    "imagen_trabajo = imagenes[0]  # Cambiá el índice según necesites\n",
    "\n",
    "# Convertí a escala de grises\n",
    "# Tu código aquí\n"
   ]
  },
  {
   "cell_type": "code",
   "execution_count": null,
   "id": "cell-17",
   "metadata": {
    "id": "cell-17"
   },
   "outputs": [],
   "source": [
    "# Aplicá segmentación por umbralización\n",
    "# Probá diferentes valores hasta encontrar el mejor\n",
    "\n",
    "# Tu código aquí\n"
   ]
  },
  {
   "cell_type": "code",
   "execution_count": null,
   "id": "cell-18",
   "metadata": {
    "id": "cell-18"
   },
   "outputs": [],
   "source": [
    "# Mostrá el resultado: original, escala de grises, y máscara\n",
    "# Tu código aquí\n"
   ]
  },
  {
   "cell_type": "markdown",
   "id": "cell-19",
   "metadata": {
    "id": "cell-19"
   },
   "source": [
    "## 4.2 Mejora de Calidad\n",
    "\n",
    "**Material de consulta:** `Mejora_Imagen_Ecualizacion.ipynb`"
   ]
  },
  {
   "cell_type": "code",
   "execution_count": null,
   "id": "cell-20",
   "metadata": {
    "id": "cell-20"
   },
   "outputs": [],
   "source": [
    "# Si tu imagen tiene problemas de contraste, aplicá ecualización\n",
    "# Tu código aquí\n"
   ]
  },
  {
   "cell_type": "code",
   "execution_count": null,
   "id": "cell-21",
   "metadata": {
    "id": "cell-21"
   },
   "outputs": [],
   "source": [
    "# Si tu imagen está rotada, aplicá corrección básica\n",
    "# Material de consulta: Transformaciones_Geometricas.ipynb\n",
    "\n",
    "# Tu código aquí\n"
   ]
  },
  {
   "cell_type": "markdown",
   "id": "cell-22",
   "metadata": {
    "id": "cell-22"
   },
   "source": [
    "## 4.3 Comparación de Resultados"
   ]
  },
  {
   "cell_type": "code",
   "execution_count": null,
   "id": "cell-23",
   "metadata": {
    "id": "cell-23"
   },
   "outputs": [],
   "source": [
    "# Mostrá lado a lado: imagen original vs imagen procesada\n",
    "# Tu código aquí\n"
   ]
  },
  {
   "cell_type": "markdown",
   "id": "cell-24",
   "metadata": {
    "id": "cell-24"
   },
   "source": [
    "## 4.4 Aplicación a las Otras Imágenes\n",
    "\n",
    "Repetí el proceso para tus otras 2 imágenes, adaptando las técnicas según los problemas específicos de cada una:"
   ]
  },
  {
   "cell_type": "code",
   "execution_count": null,
   "id": "cell-25",
   "metadata": {
    "id": "cell-25"
   },
   "outputs": [],
   "source": [
    "# Procesamiento de la segunda imagen\n",
    "# Tu código aquí\n"
   ]
  },
  {
   "cell_type": "code",
   "execution_count": null,
   "id": "cell-26",
   "metadata": {
    "id": "cell-26"
   },
   "outputs": [],
   "source": [
    "# Procesamiento de la tercera imagen\n",
    "# Tu código aquí\n"
   ]
  },
  {
   "cell_type": "markdown",
   "id": "cell-27",
   "metadata": {
    "id": "cell-27"
   },
   "source": [
    "## 4.5 Resultados Finales"
   ]
  },
  {
   "cell_type": "code",
   "execution_count": null,
   "id": "cell-28",
   "metadata": {
    "id": "cell-28"
   },
   "outputs": [],
   "source": [
    "# Creá un grid mostrando las 3 imágenes originales y las 3 procesadas\n",
    "# Tu código aquí\n"
   ]
  },
  {
   "cell_type": "markdown",
   "id": "cell-29",
   "metadata": {
    "id": "cell-29"
   },
   "source": [
    "---\n",
    "\n",
    "# REFLEXIÓN FINAL\n",
    "\n",
    "## Análisis de Resultados\n",
    "\n",
    "**¿Qué técnica fue más efectiva para cada tipo de problema?**\n",
    "\n",
    "[COMPLETAR: Reflexioná sobre qué funcionó mejor para cada imagen]\n",
    "\n",
    "**¿Qué desafíos encontraste durante el procesamiento?**\n",
    "\n",
    "[COMPLETAR: Mencioná las dificultades técnicas que tuviste]\n",
    "\n",
    "**¿En qué casos los resultados no fueron óptimos y por qué?**\n",
    "\n",
    "[COMPLETAR: Sé crítico con tus resultados]\n",
    "\n",
    "## Aprendizaje Adquirido\n",
    "\n",
    "**¿Qué conceptos del curso fueron más útiles?**\n",
    "\n",
    "[COMPLETAR: Conectá con el material visto en clase]\n",
    "\n",
    "**¿Cómo podrías mejorar este sistema en futuras versiones?**\n",
    "\n",
    "[COMPLETAR: Pensá en extensiones posibles]\n",
    "\n",
    "---\n",
    "\n",
    "## Entregables\n",
    "\n",
    "1. Este notebook completamente ejecutado con resultados\n",
    "2. Carpeta `dataset/` con tus 3 imágenes\n",
    "3. Las reflexiones completadas\n",
    "\n",
    "**Fecha de entrega:** 24 de Septiembre, 23:59\n",
    "\n",
    "---"
   ]
  },
  {
   "cell_type": "markdown",
   "id": "23a2a163",
   "metadata": {},
   "source": [
    "# Ejemplo práctico: procesamiento de imagen\n",
    "\n",
    "En este ejemplo vamos a cargar una imagen, mostrarla y aplicar un filtro sencillo. Cada paso estará explicado para que puedas presentarlo y entenderlo fácilmente."
   ]
  },
  {
   "cell_type": "code",
   "execution_count": null,
   "id": "6e22fbc7",
   "metadata": {},
   "outputs": [],
   "source": [
    "# Paso 1: Importar las librerías necesarias\n",
    "import numpy as np\n",
    "import matplotlib.pyplot as plt\n",
    "from PIL import Image, ImageFilter\n",
    "\n",
    "# Paso 2: Cargar una imagen desde archivo\n",
    "# Cambia la ruta por una imagen de tu carpeta\n",
    "imagen = Image.open('../001 - Introduccion_Py5/Imagenes/imagen.jpg')\n",
    "\n",
    "# Paso 3: Mostrar la imagen original\n",
    "plt.imshow(imagen)\n",
    "plt.title('Imagen original')\n",
    "plt.axis('off')\n",
    "plt.show()"
   ]
  },
  {
   "cell_type": "code",
   "execution_count": null,
   "id": "dfcb88d9",
   "metadata": {},
   "outputs": [],
   "source": [
    "# Paso 4: Aplicar un filtro sencillo (desenfoque)\n",
    "imagen_blur = imagen.filter(ImageFilter.BLUR)\n",
    "\n",
    "# Paso 5: Mostrar la imagen filtrada\n",
    "plt.imshow(imagen_blur)\n",
    "plt.title('Imagen con filtro de desenfoque')\n",
    "plt.axis('off')\n",
    "plt.show()"
   ]
  },
  {
   "cell_type": "markdown",
   "id": "3da86e2c",
   "metadata": {},
   "source": [
    "## Explicación de los pasos\n",
    "\n",
    "1. **Importar librerías:** Usamos PIL para cargar y filtrar imágenes, y matplotlib para mostrar resultados.\n",
    "2. **Cargar imagen:** Se abre una imagen desde el disco.\n",
    "3. **Mostrar imagen original:** Visualizamos la imagen tal como está.\n",
    "4. **Aplicar filtro:** Usamos un filtro de desenfoque para modificar la imagen.\n",
    "5. **Mostrar imagen filtrada:** Visualizamos el resultado del filtro aplicado.\n",
    "\n",
    "Puedes cambiar el filtro o la imagen para experimentar."
   ]
  }
 ],
 "metadata": {
  "colab": {
   "provenance": []
  },
  "kernelspec": {
   "display_name": ".venv (3.9.6)",
   "language": "python",
   "name": "python3"
  },
  "language_info": {
   "codemirror_mode": {
    "name": "ipython",
    "version": 3
   },
   "file_extension": ".py",
   "mimetype": "text/x-python",
   "name": "python",
   "nbconvert_exporter": "python",
   "pygments_lexer": "ipython3",
   "version": "3.9.6"
  }
 },
 "nbformat": 4,
 "nbformat_minor": 5
}
